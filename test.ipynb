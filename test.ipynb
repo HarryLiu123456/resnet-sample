{
 "cells": [
  {
   "cell_type": "code",
   "execution_count": 63,
   "metadata": {},
   "outputs": [],
   "source": [
    "#得到标签字典\n",
    "import pickle\n",
    "\n",
    "def unpickle(file):\n",
    "    with open(file, 'rb') as fo:\n",
    "        dict = pickle.load(fo, encoding='latin1')\n",
    "    return dict\n",
    "\n",
    "dict = unpickle('dataset/cifar-100-python/meta')\n",
    "# print(dict)\n",
    "\n",
    "label_list = dict['fine_label_names']\n",
    "# print(len(label_list))\n",
    "# print(label_list)"
   ]
  },
  {
   "cell_type": "code",
   "execution_count": 64,
   "metadata": {},
   "outputs": [
    {
     "name": "stdout",
     "output_type": "stream",
     "text": [
      "标签:couch\n"
     ]
    },
    {
     "data": {
      "text/plain": [
       "<matplotlib.image.AxesImage at 0x24d2cfe7040>"
      ]
     },
     "execution_count": 64,
     "metadata": {},
     "output_type": "execute_result"
    },
    {
     "data": {
      "image/png": "[encoded data removed]",
      "text/plain": [
       "<Figure size 640x480 with 1 Axes>"
      ]
     },
     "metadata": {},
     "output_type": "display_data"
    }
   ],
   "source": [
    "#取第一个图片显示一下\n",
    "import dataset\n",
    "import torchvision.transforms as transforms\n",
    "import matplotlib.pyplot as plt\n",
    "\n",
    "images = None\n",
    "labels = None\n",
    "\n",
    "for batch in dataset.train_loader:\n",
    "    images, labels = batch\n",
    "    break\n",
    "\n",
    "label = labels[0]\n",
    "image = images[0]\n",
    "\n",
    "print(\"标签:\" + str(label_list[label]))\n",
    "\n",
    "#反归一化\n",
    "mean = (0.5071, 0.4867, 0.4408)\n",
    "std = (0.2675, 0.2565, 0.2761)\n",
    "\n",
    "dmean = [-mean/std for mean, std in zip(mean, std)]\n",
    "dstd = [1/std for std in std]\n",
    "\n",
    "image = transforms.Normalize(dmean, dstd)(image)\n",
    "image = transforms.ToPILImage(mode=\"RGB\")(image)\n",
    "\n",
    "plt.imshow(image)"
   ]
  },
  {
   "cell_type": "markdown",
   "metadata": {},
   "source": [
    "# 测试tqdm\n",
    "from tqdm import tqdm\n",
    "\n",
    "for i in tqdm(range(5)):\n",
    "    for j in tqdm(range(5)):\n",
    "        print(i,\" \",j)"
   ]
  }
 ],
 "metadata": {
  "kernelspec": {
   "display_name": "resnet",
   "language": "python",
   "name": "python3"
  },
  "language_info": {
   "codemirror_mode": {
    "name": "ipython",
    "version": 3
   },
   "file_extension": ".py",
   "mimetype": "text/x-python",
   "name": "python",
   "nbconvert_exporter": "python",
   "pygments_lexer": "ipython3",
   "version": "3.10.0"
  }
 },
 "nbformat": 4,
 "nbformat_minor": 2
}
